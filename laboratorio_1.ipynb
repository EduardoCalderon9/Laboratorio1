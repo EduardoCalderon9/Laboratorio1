{
 "cells": [
  {
   "attachments": {},
   "cell_type": "markdown",
   "metadata": {},
   "source": [
    "## Laboratorio 1"
   ]
  },
  {
   "cell_type": "code",
   "execution_count": 118,
   "metadata": {},
   "outputs": [],
   "source": [
    "import numpy as np"
   ]
  },
  {
   "cell_type": "code",
   "execution_count": 119,
   "metadata": {},
   "outputs": [],
   "source": [
    "dias = np.arange(1, 365)"
   ]
  },
  {
   "attachments": {},
   "cell_type": "markdown",
   "metadata": {},
   "source": [
    "Revisar si en el contador de cumpleaños hay por lo menos un dia que se repita la cantidad de veces deseada. "
   ]
  },
  {
   "cell_type": "code",
   "execution_count": 120,
   "metadata": {},
   "outputs": [],
   "source": [
    "def hay_repetidos(lista, cantidad):\n",
    "    for cumpleanios in lista:\n",
    "            if cumpleanios[1] == cantidad:\n",
    "                return True\n",
    "    return False"
   ]
  },
  {
   "attachments": {},
   "cell_type": "markdown",
   "metadata": {},
   "source": [
    "Obtener un dia de cumpleaños por cada persona en el grupo y determinar cuantas veces se repite cada uno de los dias obtenidos. En cada ciclo se le suma uno a la cantidad de cumpleaños repetidos si hay por lo menos un dia que se repita tantas veces como el parametro cantidad_cumpleaños_repetidos."
   ]
  },
  {
   "cell_type": "code",
   "execution_count": 121,
   "metadata": {},
   "outputs": [],
   "source": [
    "def probabilidad_de_cumpleaños_repetidos(ciclos, cantidad_cumpleanios_repetidos, cantidad_personas):\n",
    "    cumpleanios_repetidos = 0\n",
    "    for i in range(ciclos):\n",
    "        cumpleanieros = np.random.choice(dias, cantidad_personas)\n",
    "        unique, counts = np.unique(cumpleanieros, return_counts=True)\n",
    "\n",
    "        np_cumpleanios = np.asarray((unique, counts)).T\n",
    "        if hay_repetidos(np_cumpleanios, cantidad_cumpleanios_repetidos):\n",
    "            cumpleanios_repetidos = cumpleanios_repetidos + 1\n",
    "\n",
    "    print(f'''Probabilidad que {cantidad_cumpleanios_repetidos} personas en un grupo de {cantidad_personas} personas cumplan años el mismo dia: {round(cumpleanios_repetidos/ciclos *100, 4)}%''')"
   ]
  },
  {
   "cell_type": "code",
   "execution_count": 122,
   "metadata": {},
   "outputs": [
    {
     "name": "stdout",
     "output_type": "stream",
     "text": [
      "Probabilidad que 2 personas en un grupo de 20 personas cumplan años el mismo dia: 40.0%\n",
      "Probabilidad que 2 personas en un grupo de 200 personas cumplan años el mismo dia: 100.0%\n",
      "Probabilidad que 3 personas en un grupo de 100 personas cumplan años el mismo dia: 63.0%\n",
      "Probabilidad que 10 personas en un grupo de 1000 personas cumplan años el mismo dia: 12.0%\n"
     ]
    }
   ],
   "source": [
    "probabilidad_de_cumpleaños_repetidos(100, 2, 20)\n",
    "probabilidad_de_cumpleaños_repetidos(100, 2, 200)\n",
    "probabilidad_de_cumpleaños_repetidos(100, 3, 100)\n",
    "probabilidad_de_cumpleaños_repetidos(100, 10, 1000)"
   ]
  },
  {
   "cell_type": "code",
   "execution_count": 123,
   "metadata": {},
   "outputs": [],
   "source": [
    "def birthday_paradox():\n",
    "    cantidad_personas = input('¿Cuantas personas hay en el grupo?')\n",
    "    cantidad_cumpleaños_repetidos = input('¿Cuantos cumpleaños repetidos desea?')\n",
    "    probabilidad_de_cumpleaños_repetidos(100, int(cantidad_cumpleaños_repetidos), int(cantidad_personas))"
   ]
  },
  {
   "cell_type": "code",
   "execution_count": 124,
   "metadata": {},
   "outputs": [
    {
     "name": "stdout",
     "output_type": "stream",
     "text": [
      "Probabilidad que 3 personas en un grupo de 33 personas cumplan años el mismo dia: 6.0%\n"
     ]
    }
   ],
   "source": [
    "birthday_paradox()"
   ]
  }
 ],
 "metadata": {
  "kernelspec": {
   "display_name": "base",
   "language": "python",
   "name": "python3"
  },
  "language_info": {
   "codemirror_mode": {
    "name": "ipython",
    "version": 3
   },
   "file_extension": ".py",
   "mimetype": "text/x-python",
   "name": "python",
   "nbconvert_exporter": "python",
   "pygments_lexer": "ipython3",
   "version": "3.10.9"
  },
  "orig_nbformat": 4
 },
 "nbformat": 4,
 "nbformat_minor": 2
}
